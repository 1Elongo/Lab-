{
 "cells": [
  {
   "cell_type": "markdown",
   "id": "b8c9623f",
   "metadata": {},
   "source": [
    "# Лабораторная работа №5\n",
    "## Выполнил студент : ЕЛОНГО ДидоЛунге БФИ2201\n"
   ]
  },
  {
   "cell_type": "code",
   "execution_count": 3,
   "id": "a84f8d9f",
   "metadata": {},
   "outputs": [],
   "source": [
    "# Необходим при замере скорости выполнения кода\n",
    "from datetime import datetime as t\n",
    "# Нужен для создания словаря в алг. Бойера-Мура\n",
    "from collections import defaultdict"
   ]
  },
  {
   "cell_type": "markdown",
   "id": "6c0e765b",
   "metadata": {},
   "source": [
    "## Задание №1\n",
    "Реализовать методы поиска подстроки в строке. Добавить возможность ввода строки и подстроки с клавиатуры.\n",
    "Предусмотреть возможность существования пробела.\n",
    "Реализовать возможность выбора опции чувствительности или нечувствительности к регистру.\n",
    "Оценить время работы каждого алгоритма поиска и сравнить его со временем работы стандартной функции поиска, используемой\n",
    "в выбранном языке программирования.\n",
    "\n",
    "Алгоритм Кнута-Морриса-Пратта"
   ]
  },
  {
   "cell_type": "code",
   "execution_count": 4,
   "id": "ddeef4d7",
   "metadata": {},
   "outputs": [
    {
     "name": "stdin",
     "output_type": "stream",
     "text": [
      "Ввод строки:  je suis cool\n",
      "Ввод подстроки:  ol\n",
      "Выключить регистр? (Да/Нет)  да\n",
      "Выключить пробелы? (Да/Нет)  да\n"
     ]
    },
    {
     "name": "stdout",
     "output_type": "stream",
     "text": [
      "Теперь строка выглядит:  je suis cool  , а подстрока:  ol\n",
      "[(8, 10)]\n",
      "Время работы алгоритма составило: 0.00013309999485500157 секунд\n"
     ]
    }
   ],
   "source": [
    "import timeit\n",
    "#Алгоритм Кнута-Морриса-Пратта\n",
    "#Префикс-функция\n",
    "def prefix(s):\n",
    "    p = [0] * len(s)\n",
    "    for i in range(1, len(s)):\n",
    "        k = p[i - 1] \n",
    "        while k > 0 and s[k] != s[i]: \n",
    "            k = p[k - 1] \n",
    "        if s[k] == s[i]:\n",
    "            k += 1\n",
    "        p[i] = k \n",
    "    return p\n",
    "\n",
    "#Алгоритм Кнута-Морриса-Пратта\n",
    "def KMP(s, ps):\n",
    "    if reg:\n",
    "        s = s.lower()\n",
    "        ps = ps.lower() \n",
    "    if space:\n",
    "        s = s.replace(\" \", \"\")\n",
    "    \n",
    "    A = []\n",
    "    k = 0\n",
    "        \n",
    "    p = prefix(s)\n",
    "\n",
    "    for i in range(len(s)):\n",
    "        while k > 0 and s[i] != ps[k]:\n",
    "            k = p[k-1]o\n",
    "        if s[i] == ps[k]:\n",
    "            k += 1\n",
    "        if k == len(ps):\n",
    "            A.append((i - len(ps) + 1, i+1))\n",
    "            k = p[k-1]K\n",
    "\n",
    "    return A\n",
    "\n",
    "s = input(\"Ввод строки: \")\n",
    "ps = input(\"Ввод подстроки: \")\n",
    "reg = input(\"Выключить регистр? (Да/Нет) \")\n",
    "space = input(\"Выключить пробелы? (Да/Нет) \")\n",
    "if reg == \"Да\":\n",
    "    s = s.lower()\n",
    "    ps = ps.lower()\n",
    "if space == \"Да\":\n",
    "    s = s.replace(\" \", \"\")\n",
    "print(\"Теперь строка выглядит: \", s, \" , а подстрока: \", ps)\n",
    "starttime = timeit.default_timer()\n",
    "print(KMP(s, ps))\n",
    "endtime = timeit.default_timer()\n",
    "print(\"Время работы алгоритма составило:\", endtime - starttime, \"секунд\")"
   ]
  },
  {
   "cell_type": "code",
   "execution_count": 5,
   "id": "064da9fd",
   "metadata": {},
   "outputs": [
    {
     "name": "stdin",
     "output_type": "stream",
     "text": [
      "Ввод строки:  je suis cool\n",
      "Ввод подстроки:  ol\n",
      "Выключить регистр? (Да/Нет)  да\n",
      "Выключить пробелы? (Да/Нет)  да\n"
     ]
    },
    {
     "name": "stdout",
     "output_type": "stream",
     "text": [
      "Теперь строка выглядит:  je suis cool  , а подстрока:  ol\n",
      "[(10, 12)]\n",
      "Время работы алгоритма составило: 8.110000635497272e-05 секунд\n"
     ]
    }
   ],
   "source": [
    "#Алгоритм Бойера-Мура\n",
    "\n",
    "def preprocess(ps):\n",
    "    #Construire un tableau de compensations\n",
    "    T = [len(ps)]*256\n",
    "    for i in range(len(ps) - 1):\n",
    "        T[ord(ps[i])] = len(ps) - 1 - i #Combien de caractères depuis le bord droit jusqu'à cette lettre\n",
    "    return T\n",
    "\n",
    "def BM(s, ps):\n",
    "    A = []\n",
    "    T = preprocess(ps)\n",
    "    skip = 0\n",
    "    while len(s) - skip >= len(ps): \n",
    "        if s[skip:skip + len(ps)] == ps:\n",
    "            A.append((skip, skip + len(ps)))\n",
    "        skip += T[ord(s[skip + len(ps) - 1])] \n",
    "    return A\n",
    "\n",
    "s = input(\"Ввод строки: \")\n",
    "ps = input(\"Ввод подстроки: \")\n",
    "reg = input(\"Выключить регистр? (Да/Нет) \")\n",
    "space = input(\"Выключить пробелы? (Да/Нет) \")\n",
    "if reg == \"Да\":\n",
    "    s = s.lower()\n",
    "    ps = ps.lower()\n",
    "if space == \"Да\":\n",
    "    s = s.replace(\" \", \"\")\n",
    "print(\"Теперь строка выглядит: \", s, \" , а подстрока: \", ps)\n",
    "starttime = timeit.default_timer()\n",
    "print(BM(s, ps))\n",
    "endtime = timeit.default_timer()\n",
    "print(\"Время работы алгоритма составило:\", endtime - starttime, \"секунд\")"
   ]
  },
  {
   "cell_type": "markdown",
   "id": "11173d86",
   "metadata": {},
   "source": [
    "### Задание №2\n",
    "Написать программу, определяющую, является ли данное\n",
    "расположение «решаемым», то есть можно ли из него за конечное число\n",
    "шагов перейти к правильному. Если это возможно, то необходимо найти хотя\n",
    "бы одно решение - последовательность движений, после которой числа будут\n",
    "расположены в правильном порядке.\n",
    "#### Входные данные: массив чисел, представляющий собой расстановку в\n",
    "Порядке «слева направо, сверху вниз». Число 0 обозначает пустое поле.\n",
    "Например, массив [1, 2, 3, 4, 5, 6, 7, 8, 9, 10, 11, 12, 13, 14, 15, 0] представляет\n",
    "собой «решенную» позицию элементов.\n",
    "#### Выходные данные: если решения нет, то функция должна вернуть\n",
    "Пустой массив []. Если решение есть, то необходимо представить решение —\n",
    "для каждого шага записывается номер передвигаемого на данном шаге\n",
    "элемента. "
   ]
  },
  {
   "cell_type": "code",
   "execution_count": 2,
   "id": "ec51c904",
   "metadata": {},
   "outputs": [],
   "source": [
    "N=4\n",
    "def getInvCount(arr):\n",
    "    arr1=[]\n",
    "    for y in arr:\n",
    "        for x in y:\n",
    "            arr1.append(x)\n",
    "    arr=arr1\n",
    "    inv_count = 0\n",
    "    for i in range(N * N - 1):\n",
    "        for j in range(i + 1,N * N):\n",
    "            if (arr[j] and arr[i] and arr[i] > arr[j]):\n",
    "                inv_count+=1\n",
    "         \n",
    "     \n",
    "    return inv_count\n",
    " \n",
    " \n",
    "def findXPosition(puzzle):\n",
    "    #commencer par le coin inférieur droit de la matrice(угла матрицы)\n",
    "    for i in range(N - 1,-1,-1):\n",
    "        for j in range(N - 1,-1,-1):\n",
    "            if (puzzle[i][j] == 0):\n",
    "                return N - i\n",
    " \n",
    " \n",
    "#renvoie vrai si le puzzle peut être résolu(возвращает true)\n",
    "def isSolvable(puzzle):\n",
    "    #compter le nombre d'inversions(количество инверсий)\n",
    "    invCount = getInvCount(puzzle)\n",
    " \n",
    "   #vérifier la dimension du puzzle((четность пазла))\n",
    "    if (N & 1):\n",
    "        return ~(invCount & 1)\n",
    " \n",
    "    else:    #si même(если четная)\n",
    "        pos = findXPosition(puzzle)\n",
    "        if (pos & 1):#si un champ vide est dans une ligne impaire\n",
    "            return ~(invCount & 1) # puis retourne vrai s'il y a un nombre pair d'inversions........ \n",
    "        else:\n",
    "            return invCount & 1 #return true s'il y a un nombre impair d'inversions..........dans ...\n",
    "     \n",
    " \n",
    " \n",
    "\n",
    "if __name__ == '__main__':\n",
    " \n",
    "    puzzle =[\n",
    "        [12, 1, 10, 5,],\n",
    "        [7, 11, 4, 14,],\n",
    "        [2, 0, 9, 15,], \n",
    "        [8, 13, 6, 3,],]\n",
    "    res = isSolvable(puzzle)\n",
    "    if res:\n",
    "        print ([1, 2, 3, 4, 5, 6, 7, 8, 9, 10, 11, 12, 13, 14, 15, 0])\n",
    "    else:\n",
    "        []\n",
    "\n",
    " "
   ]
  },
  {
   "cell_type": "markdown",
   "id": "c06b0928",
   "metadata": {},
   "source": []
  },
  {
   "cell_type": "code",
   "execution_count": null,
   "id": "b8a26dfe",
   "metadata": {},
   "outputs": [],
   "source": []
  },
  {
   "cell_type": "code",
   "execution_count": null,
   "id": "3d35247d-73ce-4569-8e13-af644db0d39c",
   "metadata": {},
   "outputs": [],
   "source": []
  }
 ],
 "metadata": {
  "kernelspec": {
   "display_name": "Python 3 (ipykernel)",
   "language": "python",
   "name": "python3"
  },
  "language_info": {
   "codemirror_mode": {
    "name": "ipython",
    "version": 3
   },
   "file_extension": ".py",
   "mimetype": "text/x-python",
   "name": "python",
   "nbconvert_exporter": "python",
   "pygments_lexer": "ipython3",
   "version": "3.12.0"
  }
 },
 "nbformat": 4,
 "nbformat_minor": 5
}
