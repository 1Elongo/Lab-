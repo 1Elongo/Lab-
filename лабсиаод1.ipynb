{
 "cells": [
  {
   "cell_type": "markdown",
   "id": "a84419b8",
   "metadata": {},
   "source": [
    "# Лабораторная работа №1\n",
    "## Выполнил студент группы БФИ2201  ЕЛОНГО ДидоЛунге"
   ]
  },
  {
   "cell_type": "markdown",
   "id": "be0daded",
   "metadata": {},
   "source": [
    "### Оглавление\n",
    "1. [Задание 1](#Задание-№1)\n",
    "2. [Задание 2](#Задание-№2)\n",
    "3. [Задание 3](#Задание-№3)\n",
    "4. [Вывод](#Вывод)"
   ]
  },
  {
   "cell_type": "markdown",
   "id": "099342b9",
   "metadata": {},
   "source": [
    "### Задание №1\n",
    "<i> Вызвать функцию print() и передать туда строку Hello, World! </i>"
   ]
  },
  {
   "cell_type": "code",
   "execution_count": 2,
   "id": "f0a10fa7",
   "metadata": {},
   "outputs": [
    {
     "name": "stdout",
     "output_type": "stream",
     "text": [
      "Hello, World1!\n"
     ]
    }
   ],
   "source": [
    "print(\"Hello, World1!\")"
   ]
  },
  {
   "cell_type": "markdown",
   "id": "c977a494",
   "metadata": {},
   "source": [
    "### Задание №2\n",
    "Написать генератор случайных матриц(многомерных), который принимает\n",
    "опциональные параметры <b>m</b>, <b>n</b>, <b>min_limit</b>, <b>max_limit</b>, где <b>m</b> и <b>n</b> указывают размер\n",
    "матрицы, а <b>min_lim</b> и <b>max_lim</b> - минимальное и максимальное значение для\n",
    "генерируемого числа."
   ]
  },
  {
   "cell_type": "code",
   "execution_count": 9,
   "id": "41877330",
   "metadata": {},
   "outputs": [
    {
     "data": {
      "text/plain": [
       "[[187, 906, 595, 48, 26],\n",
       " [422, 577, 49, 881, 979],\n",
       " [-10, 41, 405, 647, 222],\n",
       " [264, 933, 306, 492, 94],\n",
       " [715, 319, 817, 594, 21]]"
      ]
     },
     "execution_count": 9,
     "metadata": {},
     "output_type": "execute_result"
    }
   ],
   "source": [
    "#генерация двумерного массива\n",
    "m,n=5,5\n",
    "import random\n",
    "def create_mas(m, n):\n",
    "    arr2d=[]\n",
    "    for i in range(m):\n",
    "        irr=[]\n",
    "        for j in range(n):\n",
    "            irr.append(random.randint(-25,1003))\n",
    "        arr2d.append(irr)\n",
    "    return (arr2d)\n",
    "mas=create_mas(m, n)\n",
    "create_mas(m, n)"
   ]
  },
  {
   "cell_type": "markdown",
   "id": "5a086cfb",
   "metadata": {},
   "source": [
    "### Задание №3\n",
    "Реализовать методы сортировки строк числовой матрицы в соответствии с\n",
    "заданием. Оценить время работы каждого алгоритма сортировки и сравнить его со\n",
    "временем стандартной функции сортировки. Испытания проводить на сгенерированных\n",
    "матрицах."
   ]
  },
  {
   "cell_type": "code",
   "execution_count": 10,
   "id": "1bdf3905",
   "metadata": {},
   "outputs": [
    {
     "data": {
      "text/plain": [
       "[[37, 161, 225, 506, 965],\n",
       " [39, 227, 251, 483, 581],\n",
       " [272, 350, 418, 644, 657],\n",
       " [322, 400, 439, 684, 818],\n",
       " [534, 630, 702, 776, 838]]"
      ]
     },
     "execution_count": 10,
     "metadata": {},
     "output_type": "execute_result"
    }
   ],
   "source": [
    "#сортировка выбором\n",
    "mas=create_mas(m, n)\n",
    "def selection_sort(mas):        \n",
    "    for i in range(len(mas)):\n",
    "        minimum = i\n",
    "        \n",
    "        for j in range(i + 1, len(mas)):\n",
    "            if mas[j] < mas[minimum]:\n",
    "                minimum = j\n",
    "\n",
    "        mas[minimum], mas[i] = mas[i], mas[minimum]\n",
    "            \n",
    "    return mas\n",
    "for row in range(len(mas)):\n",
    "     selection_sort(mas[row]) \n",
    "\n",
    "selection_sort(mas)\n",
    "\n"
   ]
  },
  {
   "cell_type": "code",
   "execution_count": 11,
   "id": "51471e07",
   "metadata": {},
   "outputs": [
    {
     "data": {
      "text/plain": [
       "[[22, 410, 447, 736, 1001],\n",
       " [66, 130, 618, 620, 933],\n",
       " [196, 217, 669, 708, 968],\n",
       " [366, 465, 494, 530, 727],\n",
       " [391, 777, 879, 882, 927]]"
      ]
     },
     "execution_count": 11,
     "metadata": {},
     "output_type": "execute_result"
    }
   ],
   "source": [
    "#сортировка вставкой\n",
    "mas=create_mas(m, n)\n",
    "def insertion_sort(mas):\n",
    "        \n",
    "    for i in range(len(mas)):\n",
    "        cursor = mas[i]\n",
    "        pos = i\n",
    "        \n",
    "        while pos > 0 and mas[pos - 1] > cursor:\n",
    "            # Меняем местами число, продвигая по списку\n",
    "            mas[pos] = mas[pos - 1]\n",
    "            pos = pos - 1\n",
    "        # Остановимся и сделаем последний обмен\n",
    "        mas[pos] = cursor\n",
    "\n",
    "    return mas\n",
    "for row in range(len(mas)):\n",
    "     selection_sort(mas[row]) \n",
    "insertion_sort(mas)"
   ]
  },
  {
   "cell_type": "code",
   "execution_count": 12,
   "id": "28e80f0a",
   "metadata": {},
   "outputs": [
    {
     "data": {
      "text/plain": [
       "[[5, 208, 670, 743, 755],\n",
       " [46, 116, 308, 761, 968],\n",
       " [95, 389, 493, 561, 733],\n",
       " [582, 583, 595, 920, 992],\n",
       " [583, 621, 670, 693, 833]]"
      ]
     },
     "execution_count": 12,
     "metadata": {},
     "output_type": "execute_result"
    }
   ],
   "source": [
    "#сортировка обменом\n",
    "mas=create_mas(m, n)\n",
    "def bubble(mas):\n",
    "    changed = True\n",
    "    while changed:\n",
    "        changed = False\n",
    "        for i in range(len(mas) - 1):\n",
    "            if mas[i] > mas[i+1]:\n",
    "                mas[i], mas[i+1] = mas[i+1], mas[i]\n",
    "                changed = True\n",
    "    return mas\n",
    "for row in range(len(mas)):\n",
    "     bubble(mas[row]) \n",
    "bubble(mas)                     "
   ]
  },
  {
   "cell_type": "code",
   "execution_count": 13,
   "id": "4dfa6c6d",
   "metadata": {},
   "outputs": [
    {
     "data": {
      "text/plain": [
       "[[-23, 167, 233, 239, 510],\n",
       " [40, 53, 66, 645, 978],\n",
       " [172, 202, 408, 963, 982],\n",
       " [182, 268, 389, 564, 925],\n",
       " [187, 276, 520, 610, 973]]"
      ]
     },
     "execution_count": 13,
     "metadata": {},
     "output_type": "execute_result"
    }
   ],
   "source": [
    "#сортировка Шелла\n",
    "mas=create_mas(m, n)\n",
    "def shell_sort(mas):\n",
    "    gap = len(mas) // 2\n",
    "\n",
    "    while gap > 0:\n",
    "        for value in range(gap, len(mas)):\n",
    "            current_value = mas[value]\n",
    "            position = value\n",
    "\n",
    "            while position >= gap and mas[position - gap] > current_value:\n",
    "                mas[position] = mas[position - gap]\n",
    "                position -= gap\n",
    "                mas[position] = current_value\n",
    "\n",
    "        gap //= 2\n",
    "    return mas\n",
    "for row in range(len(mas)):\n",
    "     shell_sort(mas[row])\n",
    "shell_sort(mas)"
   ]
  },
  {
   "cell_type": "code",
   "execution_count": 14,
   "id": "970c7c3e",
   "metadata": {},
   "outputs": [
    {
     "data": {
      "text/plain": [
       "[[12, 284, 453, 677, 691],\n",
       " [15, 414, 534, 818, 846],\n",
       " [213, 309, 366, 420, 498],\n",
       " [247, 428, 560, 590, 689],\n",
       " [282, 379, 532, 695, 971]]"
      ]
     },
     "execution_count": 14,
     "metadata": {},
     "output_type": "execute_result"
    }
   ],
   "source": [
    "#быстаря сортировка\n",
    "mas=create_mas(m, n)\n",
    "def quick_sort(mas):\n",
    "    quick_sort_helper(mas, 0, len(mas) - 1)\n",
    "    return mas\n",
    "\n",
    "\n",
    "def quick_sort_helper(mas, low, high):\n",
    "    if low < high:\n",
    "        split_point = partition(mas, low, high)\n",
    "        quick_sort_helper(mas, low, split_point - 1)\n",
    "        quick_sort_helper(mas, split_point + 1, high)\n",
    "\n",
    "\n",
    "def partition(mas, low, high):\n",
    "    pivot_value = mas[low]\n",
    "    left_mark = low + 1\n",
    "    right_mark = high\n",
    "    done = False\n",
    "\n",
    "    while not done:\n",
    "        while left_mark <= right_mark and mas[left_mark] <= pivot_value:\n",
    "            left_mark += 1\n",
    "        while right_mark >= left_mark and mas[right_mark] >= pivot_value:\n",
    "            right_mark -= 1\n",
    "\n",
    "        if right_mark < left_mark:\n",
    "            done = True\n",
    "        else:\n",
    "            mas[left_mark], mas[right_mark] = mas[right_mark], mas[left_mark]\n",
    "\n",
    "    mas[low], mas[right_mark] = mas[right_mark], mas[low]\n",
    "    return right_mark\n",
    "for row in range(len(mas)):\n",
    "     quick_sort(mas[row])\n",
    "quick_sort(mas)   "
   ]
  },
  {
   "cell_type": "code",
   "execution_count": 15,
   "id": "7abc3cb1",
   "metadata": {},
   "outputs": [
    {
     "data": {
      "text/plain": [
       "[[-4, 206, 660, 898, 931],\n",
       " [25, 150, 498, 717, 747],\n",
       " [68, 281, 551, 923, 926],\n",
       " [139, 327, 645, 712, 715],\n",
       " [168, 293, 544, 650, 674]]"
      ]
     },
     "execution_count": 15,
     "metadata": {},
     "output_type": "execute_result"
    }
   ],
   "source": [
    "#спирамидальная сортировка\n",
    "mas=create_mas(m, n)\n",
    "def heap(mas, heap_size, root_index):\n",
    "    largest = root_index\n",
    "    left_child = (2 * root_index) + 1\n",
    "    right_child = (2 * root_index) + 2\n",
    "    if left_child < heap_size and mas[left_child] > mas[largest]:\n",
    "        largest = left_child\n",
    "    if right_child < heap_size and mas[right_child] > mas[largest]:\n",
    "        largest = right_child\n",
    "    if largest != root_index:\n",
    "        mas[root_index], mas[largest] = mas[largest], mas[root_index]\n",
    "        heap(mas, heap_size, largest)\n",
    "def pyr_sort(mas):\n",
    "    n = len(mas)\n",
    "    for i in range(n, -1, -1):\n",
    "        heap(mas, n, i)\n",
    "    for i in range(n - 1, 0, -1):\n",
    "        mas[i], mas[0] = mas[0], mas[i]\n",
    "        heap(mas, i, 0)\n",
    "    return mas\n",
    "for row in range(len(mas)):\n",
    "     pyr_sort(mas[row])\n",
    "pyr_sort(mas) "
   ]
  },
  {
   "cell_type": "code",
   "execution_count": 22,
   "id": "6803bc87",
   "metadata": {},
   "outputs": [
    {
     "name": "stdout",
     "output_type": "stream",
     "text": [
      "Сортировка выбором: 0.00013550000585382804 секунд\n",
      "Сортировка вставкой: 9.899999713525176e-05 секунд\n",
      "Сортировка обменом: 0.00011420000373618677 секунд\n",
      "Сортировка Шелла: 7.480000203941017e-05 секунд\n",
      "Быстрая сортировка: 5.5199998314492404e-05 секунд\n",
      "Пирамидальная сортировка: 5.560000136028975e-05 секунд\n",
      "Встроенная сортировка: 5.070000042906031e-05 секунд\n"
     ]
    }
   ],
   "source": [
    "#сравнение по времени алгритмов сортировки\n",
    "array=create_mas(m, n)\n",
    "\n",
    "import timeit\n",
    "star = timeit.default_timer()\n",
    "mas=array\n",
    "selection_sort(mas)\n",
    "endtime = timeit.default_timer()\n",
    "print(\"Сортировка выбором:\", end - start, \"секунд\")\n",
    "\n",
    "start = timeit.default_timer()\n",
    "mas=array\n",
    "insertion_sort(mas)\n",
    "end = timeit.default_timer()\n",
    "print(\"Сортировка вставкой:\", end - start, \"секунд\")\n",
    "\n",
    "start = timeit.default_timer()\n",
    "mas=array\n",
    "bubble(mas)\n",
    "end = timeit.default_timer()\n",
    "print(\"Сортировка обменом:\", end - start, \"секунд\")\n",
    "\n",
    "start = timeit.default_timer()\n",
    "mas=array\n",
    "shell_sort(mas)\n",
    "end = timeit.default_timer()\n",
    "print(\"Сортировка Шелла:\", end - start, \"секунд\")\n",
    "\n",
    "start = timeit.default_timer()\n",
    "mas=array\n",
    "quick_sort(mas)\n",
    "end = timeit.default_timer()\n",
    "print(\"Быстрая сортировка:\", end - start, \"секунд\")\n",
    "\n",
    "start = timeit.default_timer()\n",
    "mas=array\n",
    "pyr_sort(mas) \n",
    "end = timeit.default_timer()\n",
    "print(\"Пирамидальная сортировка:\", end - start, \"секунд\")\n",
    "\n",
    "start = timeit.default_timer()\n",
    "for row in range(len(mas)):\n",
    "    mas[row].sort()\n",
    "    end = timeit.default_timer()\n",
    "print(\"Встроенная сортировка:\", end - start, \"секунд\")"
   ]
  },
  {
   "cell_type": "code",
   "execution_count": 19,
   "id": "99c9d333-9e7e-4480-ba06-ea97312d5fdf",
   "metadata": {},
   "outputs": [
    {
     "name": "stdout",
     "output_type": "stream",
     "text": [
      "[334, 338, 468, 604, 917]\n",
      "[72, 627, 694, 810, 940]\n",
      "[103, 128, 385, 502, 609]\n",
      "[-18, 115, 551, 753, 758]\n",
      "[234, 239, 398, 906, 963]\n"
     ]
    }
   ],
   "source": [
    "#сортировка выбором\n",
    "mas=create_mas(m, n)\n",
    "for row in range(len(mas)):\n",
    "    mas[row].sort()\n",
    "    print(mas[row])"
   ]
  },
  {
   "cell_type": "markdown",
   "id": "8000239e",
   "metadata": {},
   "source": [
    "ВЫВОД"
   ]
  },
  {
   "cell_type": "code",
   "execution_count": 1,
   "id": "1cc6d261",
   "metadata": {},
   "outputs": [
    {
     "name": "stdout",
     "output_type": "stream",
     "text": [
      "По итогам лабораторной работы была выяснено, что стандартный алгоритм сортировки является наиболее быстродейтсвенным, чем самостоятельные реализации различных алгоритмов\n"
     ]
    }
   ],
   "source": [
    "print(\"По итогам лабораторной работы была выяснено, что стандартный алгоритм сортировки является наиболее быстродейтсвенным, чем самостоятельные реализации различных алгоритмов\")"
   ]
  },
  {
   "cell_type": "code",
   "execution_count": null,
   "id": "328db8a8-5991-4125-9116-1d09137755de",
   "metadata": {},
   "outputs": [],
   "source": []
  }
 ],
 "metadata": {
  "kernelspec": {
   "display_name": "Python 3 (ipykernel)",
   "language": "python",
   "name": "python3"
  },
  "language_info": {
   "codemirror_mode": {
    "name": "ipython",
    "version": 3
   },
   "file_extension": ".py",
   "mimetype": "text/x-python",
   "name": "python",
   "nbconvert_exporter": "python",
   "pygments_lexer": "ipython3",
   "version": "3.12.0"
  }
 },
 "nbformat": 4,
 "nbformat_minor": 5
}
