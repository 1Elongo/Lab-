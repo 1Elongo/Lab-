{
 "cells": [
  {
   "cell_type": "markdown",
   "id": "47ec98c6",
   "metadata": {
    "id": "47ec98c6"
   },
   "source": [
    "# Лабораторная работа №3\n"
   ]
  },
  {
   "cell_type": "code",
   "execution_count": 21,
   "id": "fb570d70",
   "metadata": {
    "colab": {
     "base_uri": "https://localhost:8080/"
    },
    "id": "fb570d70",
    "outputId": "4777a4f4-30f5-44c9-cc62-c5ad0cefabfa"
   },
   "outputs": [
    {
     "name": "stdout",
     "output_type": "stream",
     "text": [
      "Requirement already satisfied: pandas in c:\\users\\user\\appdata\\local\\programs\\python\\python312\\lib\\site-packages (2.2.1)\n",
      "Requirement already satisfied: numpy<2,>=1.26.0 in c:\\users\\user\\appdata\\local\\programs\\python\\python312\\lib\\site-packages (from pandas) (1.26.4)\n",
      "Requirement already satisfied: python-dateutil>=2.8.2 in c:\\users\\user\\appdata\\local\\programs\\python\\python312\\lib\\site-packages (from pandas) (2.8.2)\n",
      "Requirement already satisfied: pytz>=2020.1 in c:\\users\\user\\appdata\\local\\programs\\python\\python312\\lib\\site-packages (from pandas) (2024.1)\n",
      "Requirement already satisfied: tzdata>=2022.7 in c:\\users\\user\\appdata\\local\\programs\\python\\python312\\lib\\site-packages (from pandas) (2024.1)\n",
      "Requirement already satisfied: six>=1.5 in c:\\users\\user\\appdata\\local\\programs\\python\\python312\\lib\\site-packages (from python-dateutil>=2.8.2->pandas) (1.16.0)\n",
      "Requirement already satisfied: pyvis in c:\\users\\user\\appdata\\local\\programs\\python\\python312\\lib\\site-packages (0.3.2)\n",
      "Requirement already satisfied: ipython>=5.3.0 in c:\\users\\user\\appdata\\local\\programs\\python\\python312\\lib\\site-packages (from pyvis) (8.21.0)\n",
      "Requirement already satisfied: jinja2>=2.9.6 in c:\\users\\user\\appdata\\local\\programs\\python\\python312\\lib\\site-packages (from pyvis) (3.1.3)\n",
      "Requirement already satisfied: jsonpickle>=1.4.1 in c:\\users\\user\\appdata\\local\\programs\\python\\python312\\lib\\site-packages (from pyvis) (3.0.3)\n",
      "Requirement already satisfied: networkx>=1.11 in c:\\users\\user\\appdata\\local\\programs\\python\\python312\\lib\\site-packages (from pyvis) (3.2.1)\n",
      "Requirement already satisfied: decorator in c:\\users\\user\\appdata\\local\\programs\\python\\python312\\lib\\site-packages (from ipython>=5.3.0->pyvis) (5.1.1)\n",
      "Requirement already satisfied: jedi>=0.16 in c:\\users\\user\\appdata\\local\\programs\\python\\python312\\lib\\site-packages (from ipython>=5.3.0->pyvis) (0.19.1)\n",
      "Requirement already satisfied: matplotlib-inline in c:\\users\\user\\appdata\\local\\programs\\python\\python312\\lib\\site-packages (from ipython>=5.3.0->pyvis) (0.1.6)\n",
      "Requirement already satisfied: prompt-toolkit<3.1.0,>=3.0.41 in c:\\users\\user\\appdata\\local\\programs\\python\\python312\\lib\\site-packages (from ipython>=5.3.0->pyvis) (3.0.43)\n",
      "Requirement already satisfied: pygments>=2.4.0 in c:\\users\\user\\appdata\\local\\programs\\python\\python312\\lib\\site-packages (from ipython>=5.3.0->pyvis) (2.17.2)\n",
      "Requirement already satisfied: stack-data in c:\\users\\user\\appdata\\local\\programs\\python\\python312\\lib\\site-packages (from ipython>=5.3.0->pyvis) (0.6.3)\n",
      "Requirement already satisfied: traitlets>=5 in c:\\users\\user\\appdata\\local\\programs\\python\\python312\\lib\\site-packages (from ipython>=5.3.0->pyvis) (5.14.1)\n",
      "Requirement already satisfied: colorama in c:\\users\\user\\appdata\\local\\programs\\python\\python312\\lib\\site-packages (from ipython>=5.3.0->pyvis) (0.4.6)\n",
      "Requirement already satisfied: MarkupSafe>=2.0 in c:\\users\\user\\appdata\\local\\programs\\python\\python312\\lib\\site-packages (from jinja2>=2.9.6->pyvis) (2.1.5)\n",
      "Requirement already satisfied: parso<0.9.0,>=0.8.3 in c:\\users\\user\\appdata\\local\\programs\\python\\python312\\lib\\site-packages (from jedi>=0.16->ipython>=5.3.0->pyvis) (0.8.3)\n",
      "Requirement already satisfied: wcwidth in c:\\users\\user\\appdata\\local\\programs\\python\\python312\\lib\\site-packages (from prompt-toolkit<3.1.0,>=3.0.41->ipython>=5.3.0->pyvis) (0.2.13)\n",
      "Requirement already satisfied: executing>=1.2.0 in c:\\users\\user\\appdata\\local\\programs\\python\\python312\\lib\\site-packages (from stack-data->ipython>=5.3.0->pyvis) (2.0.1)\n",
      "Requirement already satisfied: asttokens>=2.1.0 in c:\\users\\user\\appdata\\local\\programs\\python\\python312\\lib\\site-packages (from stack-data->ipython>=5.3.0->pyvis) (2.4.1)\n",
      "Requirement already satisfied: pure-eval in c:\\users\\user\\appdata\\local\\programs\\python\\python312\\lib\\site-packages (from stack-data->ipython>=5.3.0->pyvis) (0.2.2)\n",
      "Requirement already satisfied: six>=1.12.0 in c:\\users\\user\\appdata\\local\\programs\\python\\python312\\lib\\site-packages (from asttokens>=2.1.0->stack-data->ipython>=5.3.0->pyvis) (1.16.0)\n",
      "Requirement already satisfied: networkx in c:\\users\\user\\appdata\\local\\programs\\python\\python312\\lib\\site-packages (3.2.1)\n"
     ]
    }
   ],
   "source": [
    "!pip install pandas\n",
    "!pip install pyvis\n",
    "!pip install networkx"
   ]
  },
  {
   "cell_type": "code",
   "execution_count": 22,
   "id": "jCKN0vZIzz--",
   "metadata": {
    "id": "jCKN0vZIzz--"
   },
   "outputs": [],
   "source": [
    "import pandas as pd\n",
    "from pyvis.network import Network\n",
    "import networkx as nx\n",
    "import math\n",
    "import copy\n",
    "import random\n",
    "import time\n",
    "import matplotlib.pyplot as plt"
   ]
  },
  {
   "cell_type": "markdown",
   "id": "4a7c74e4",
   "metadata": {
    "id": "4a7c74e4"
   },
   "source": []
  },
  {
   "cell_type": "code",
   "execution_count": 23,
   "id": "ebd0e652-bee6-4d83-a38f-8fd8c68f0577",
   "metadata": {
    "id": "ebd0e652-bee6-4d83-a38f-8fd8c68f0577"
   },
   "outputs": [],
   "source": [
    "#Алгоритм генерации случайного графа в виде матрицы смежности\n",
    "def generate_matrix():\n",
    "    size = random.randint(30, 100)\n",
    "    matrix = [[math.inf for i in range(size)] for j in range(size)]\n",
    "    for i in range(size):\n",
    "        for j in range(size):\n",
    "            if random.randint(0, 5) == 5 and i != j:\n",
    "                rand_count = random.randint(1, 20)\n",
    "                matrix[i][j] = rand_count\n",
    "    return matrix"
   ]
  },
  {
   "cell_type": "code",
   "execution_count": 24,
   "id": "9uXIRNQ5za15",
   "metadata": {
    "id": "9uXIRNQ5za15"
   },
   "outputs": [],
   "source": [
    "options = \"\"\"var options = {\n",
    "  \"edges\": {\n",
    "    \"arrows\": {\n",
    "      \"to\": {\n",
    "        \"enabled\": true\n",
    "      }\n",
    "    },\n",
    "    \"color\": {\n",
    "      \"inherit\": true\n",
    "    },\n",
    "    \"smooth\": false\n",
    "  },\n",
    "  \"interaction\": {\n",
    "    \"navigationButtons\": true\n",
    "  },\n",
    "  \"physics\": {\n",
    "    \"minVelocity\": 0.75\n",
    "  }\n",
    "}\n",
    "\"\"\"\n",
    "\n",
    "def draw_graph(graph, path = None):\n",
    "    colors = None\n",
    "    if path:\n",
    "        colors = []\n",
    "        for item in graph.edges():\n",
    "            try:\n",
    "                index1 = path.index(item[0])\n",
    "                index2 = path.index(item[1])\n",
    "                if index1 + 1 != index2 and index1 - 1 != index2:\n",
    "                    raise\n",
    "                colors.append('red')\n",
    "            except:\n",
    "                colors.append('black')\n",
    "    pos = nx.circular_layout(graph)\n",
    "    labels = nx.get_edge_attributes(graph, 'weight')\n",
    "    nx.draw_networkx_nodes(graph, node_color = 'green', node_size = 200, pos = pos)\n",
    "    nx.draw_networkx_edges(graph,edge_color = colors, pos = pos, arrowstyle = 'simple, tail_width = 0.05')\n",
    "    nx.draw_networkx_labels(graph, pos = pos)\n",
    "    nx.draw_networkx_edge_labels(graph, pos = pos, edge_labels = labels)"
   ]
  },
  {
   "cell_type": "code",
   "execution_count": 25,
   "id": "t69ctwDxzcRR",
   "metadata": {
    "id": "t69ctwDxzcRR"
   },
   "outputs": [],
   "source": [
    "#создание графа, используя матрицу смежности\n",
    "def create_graph(matrix : list) -> nx.DiGraph:\n",
    "    graph = nx.DiGraph()\n",
    "    for i in range(1, len(matrix)):\n",
    "        graph.add_node(i)\n",
    "    for i in range(len(matrix)):\n",
    "        for j in range(len(matrix)):\n",
    "            if matrix[i][j] != math.inf and i != j:\n",
    "                graph.add_edge(i + 1, j + 1, weight=matrix[i][j], label=matrix[i][j])\n",
    "    for edge in graph.edges():\n",
    "        graph.edges[edge]['color'] = 'blue'\n",
    "    return graph"
   ]
  },
  {
   "cell_type": "code",
   "execution_count": 26,
   "id": "5glhmGhmzbzl",
   "metadata": {
    "colab": {
     "base_uri": "https://localhost:8080/",
     "height": 219
    },
    "id": "5glhmGhmzbzl",
    "outputId": "f552be1e-a276-4474-81e7-f91673f6c42f"
   },
   "outputs": [
    {
     "name": "stdout",
     "output_type": "stream",
     "text": [
      "Warning: When  cdn_resources is 'local' jupyter notebook has issues displaying graphics on chrome/safari. Use cdn_resources='in_line' or cdn_resources='remote' if you have issues viewing graphics in a notebook.\n",
      "test.html\n"
     ]
    },
    {
     "data": {
      "text/html": [
       "\n",
       "        <iframe\n",
       "            width=\"100%\"\n",
       "            height=\"600px\"\n",
       "            src=\"test.html\"\n",
       "            frameborder=\"0\"\n",
       "            allowfullscreen\n",
       "            \n",
       "        ></iframe>\n",
       "        "
      ],
      "text/plain": [
       "<IPython.lib.display.IFrame at 0x2b77c30d880>"
      ]
     },
     "execution_count": 26,
     "metadata": {},
     "output_type": "execute_result"
    },
    {
     "data": {
      "image/png": "[encoded data removed]",
      "text/plain": [
       "<Figure size 640x480 with 1 Axes>"
      ]
     },
     "metadata": {},
     "output_type": "display_data"
    }
   ],
   "source": [
    "#загрузка матрицы из файла\n",
    "with open(\"orthodox.txt\", \"r\", encoding = \"utf-8\") as file:\n",
    "    matrix = [[int(num) for num in line.split(\" \")] for line in file]\n",
    "    for i in range(len(matrix)):\n",
    "      for j in range(len(matrix[i])):\n",
    "        if matrix[i][j] == 0:\n",
    "            matrix[i][j] = math.inf\n",
    "#создаём граф\n",
    "graph = create_graph(matrix)\n",
    "\n",
    "draw_graph(graph)\n",
    "#отображаем граф из файла\n",
    "nt = Network(notebook = True)\n",
    "nt.from_nx(graph)\n",
    "nt.set_options(options)\n",
    "nt.show(\"test.html\")"
   ]
  },
  {
   "cell_type": "code",
   "execution_count": 18,
   "id": "4qibhND91UPd",
   "metadata": {
    "colab": {
     "base_uri": "https://localhost:8080/",
     "height": 219
    },
    "id": "4qibhND91UPd",
    "outputId": "c9bdfaec-daf2-4277-dd56-48a940453676"
   },
   "outputs": [
    {
     "name": "stdout",
     "output_type": "stream",
     "text": [
      "Warning: When  cdn_resources is 'local' jupyter notebook has issues displaying graphics on chrome/safari. Use cdn_resources='in_line' or cdn_resources='remote' if you have issues viewing graphics in a notebook.\n",
      "test1.html\n"
     ]
    },
    {
     "data": {
      "text/html": [
       "\n",
       "        <iframe\n",
       "            width=\"100%\"\n",
       "            height=\"600px\"\n",
       "            src=\"test1.html\"\n",
       "            frameborder=\"0\"\n",
       "            allowfullscreen\n",
       "            \n",
       "        ></iframe>\n",
       "        "
      ],
      "text/plain": [
       "<IPython.lib.display.IFrame at 0x2b77c393770>"
      ]
     },
     "execution_count": 18,
     "metadata": {},
     "output_type": "execute_result"
    },
    {
     "data": {
      "image/png": "[encoded data removed]",
      "text/plain": [
       "<Figure size 640x480 with 1 Axes>"
      ]
     },
     "metadata": {},
     "output_type": "display_data"
    }
   ],
   "source": [
    "#получение пути\n",
    "def get_path(H, v, u):\n",
    "    v -= 1\n",
    "    u -= 1\n",
    "    result = []\n",
    "    result.append(v)\n",
    "    while v != u:\n",
    "        v = H[v][u]\n",
    "        result.append(v)\n",
    "    __result = [el + 1 for el in result]\n",
    "    return __result\n",
    "\n",
    "\n",
    "#алгоритм\n",
    "def floyd(matrix):\n",
    "    W = copy.deepcopy(matrix)\n",
    "    N = len(W)\n",
    "    H = [[0 for i in range(N)] for j in range(N)]\n",
    "    for i in range(len(W)):\n",
    "        for j in range(len(W)):\n",
    "            if W[i][j] != math.inf:\n",
    "                H[i][j] = j\n",
    "    for i in range(len(W)):\n",
    "        for j in range(len(W)):\n",
    "            if i == j: continue\n",
    "            if W[i][j] != math.inf:\n",
    "                for k in range(len(W)):\n",
    "                    if i == k or j == k: continue\n",
    "                    if W[i][k] > W[i][j] + W[j][k]:\n",
    "                        W[i][k] = W[i][j] + W[j][k]\n",
    "                        H[i][k] = H[i][j]\n",
    "    return (W, H)\n",
    "\n",
    "\n",
    "result = floyd(matrix)\n",
    "path = get_path(result[1], 2, 3)\n",
    "\n",
    "\n",
    "#вносим графические изменения\n",
    "graph1 = copy.deepcopy(graph)\n",
    "for i in range(1, len(path)):\n",
    "    graph1.nodes[path[i - 1]]['color'] = 'red'\n",
    "    graph1.edges[path[i - 1], path[i]]['color'] = 'red'\n",
    "graph1.nodes[path[-1]]['color'] = 'red'\n",
    "\n",
    "draw_graph(graph, path)\n",
    "\n",
    "#отображаем граф с решением\n",
    "nt1 = Network(notebook=True)\n",
    "nt1.set_options(options)\n",
    "nt1.from_nx(graph1)\n",
    "nt1.show(\"test1.html\")"
   ]
  },
  {
   "cell_type": "code",
   "execution_count": 19,
   "id": "-suGhBfY1ra_",
   "metadata": {
    "colab": {
     "base_uri": "https://localhost:8080/",
     "height": 676
    },
    "id": "-suGhBfY1ra_",
    "outputId": "05817b7c-0075-460c-92cd-a96157cc337a"
   },
   "outputs": [
    {
     "data": {
      "text/html": [
       "<div>\n",
       "<style scoped>\n",
       "    .dataframe tbody tr th:only-of-type {\n",
       "        vertical-align: middle;\n",
       "    }\n",
       "\n",
       "    .dataframe tbody tr th {\n",
       "        vertical-align: top;\n",
       "    }\n",
       "\n",
       "    .dataframe thead th {\n",
       "        text-align: right;\n",
       "    }\n",
       "</style>\n",
       "<table border=\"1\" class=\"dataframe\">\n",
       "  <thead>\n",
       "    <tr style=\"text-align: right;\">\n",
       "      <th></th>\n",
       "      <th>Количество узлов</th>\n",
       "      <th>Количество ребер</th>\n",
       "      <th>Время в мс</th>\n",
       "    </tr>\n",
       "  </thead>\n",
       "  <tbody>\n",
       "    <tr>\n",
       "      <th>0</th>\n",
       "      <td>73</td>\n",
       "      <td>898</td>\n",
       "      <td>118</td>\n",
       "    </tr>\n",
       "    <tr>\n",
       "      <th>1</th>\n",
       "      <td>48</td>\n",
       "      <td>379</td>\n",
       "      <td>39</td>\n",
       "    </tr>\n",
       "    <tr>\n",
       "      <th>2</th>\n",
       "      <td>72</td>\n",
       "      <td>858</td>\n",
       "      <td>132</td>\n",
       "    </tr>\n",
       "    <tr>\n",
       "      <th>3</th>\n",
       "      <td>60</td>\n",
       "      <td>572</td>\n",
       "      <td>80</td>\n",
       "    </tr>\n",
       "    <tr>\n",
       "      <th>4</th>\n",
       "      <td>74</td>\n",
       "      <td>899</td>\n",
       "      <td>127</td>\n",
       "    </tr>\n",
       "    <tr>\n",
       "      <th>5</th>\n",
       "      <td>95</td>\n",
       "      <td>1472</td>\n",
       "      <td>273</td>\n",
       "    </tr>\n",
       "    <tr>\n",
       "      <th>6</th>\n",
       "      <td>39</td>\n",
       "      <td>231</td>\n",
       "      <td>18</td>\n",
       "    </tr>\n",
       "    <tr>\n",
       "      <th>7</th>\n",
       "      <td>76</td>\n",
       "      <td>969</td>\n",
       "      <td>128</td>\n",
       "    </tr>\n",
       "    <tr>\n",
       "      <th>8</th>\n",
       "      <td>86</td>\n",
       "      <td>1185</td>\n",
       "      <td>176</td>\n",
       "    </tr>\n",
       "    <tr>\n",
       "      <th>9</th>\n",
       "      <td>94</td>\n",
       "      <td>1382</td>\n",
       "      <td>246</td>\n",
       "    </tr>\n",
       "    <tr>\n",
       "      <th>10</th>\n",
       "      <td>75</td>\n",
       "      <td>896</td>\n",
       "      <td>128</td>\n",
       "    </tr>\n",
       "    <tr>\n",
       "      <th>11</th>\n",
       "      <td>63</td>\n",
       "      <td>638</td>\n",
       "      <td>71</td>\n",
       "    </tr>\n",
       "    <tr>\n",
       "      <th>12</th>\n",
       "      <td>98</td>\n",
       "      <td>1674</td>\n",
       "      <td>281</td>\n",
       "    </tr>\n",
       "    <tr>\n",
       "      <th>13</th>\n",
       "      <td>33</td>\n",
       "      <td>171</td>\n",
       "      <td>9</td>\n",
       "    </tr>\n",
       "    <tr>\n",
       "      <th>14</th>\n",
       "      <td>49</td>\n",
       "      <td>380</td>\n",
       "      <td>40</td>\n",
       "    </tr>\n",
       "    <tr>\n",
       "      <th>15</th>\n",
       "      <td>51</td>\n",
       "      <td>469</td>\n",
       "      <td>42</td>\n",
       "    </tr>\n",
       "    <tr>\n",
       "      <th>16</th>\n",
       "      <td>39</td>\n",
       "      <td>240</td>\n",
       "      <td>16</td>\n",
       "    </tr>\n",
       "    <tr>\n",
       "      <th>17</th>\n",
       "      <td>55</td>\n",
       "      <td>486</td>\n",
       "      <td>47</td>\n",
       "    </tr>\n",
       "    <tr>\n",
       "      <th>18</th>\n",
       "      <td>84</td>\n",
       "      <td>1150</td>\n",
       "      <td>167</td>\n",
       "    </tr>\n",
       "    <tr>\n",
       "      <th>19</th>\n",
       "      <td>72</td>\n",
       "      <td>868</td>\n",
       "      <td>123</td>\n",
       "    </tr>\n",
       "  </tbody>\n",
       "</table>\n",
       "</div>"
      ],
      "text/plain": [
       "    Количество узлов  Количество ребер  Время в мс\n",
       "0                 73               898         118\n",
       "1                 48               379          39\n",
       "2                 72               858         132\n",
       "3                 60               572          80\n",
       "4                 74               899         127\n",
       "5                 95              1472         273\n",
       "6                 39               231          18\n",
       "7                 76               969         128\n",
       "8                 86              1185         176\n",
       "9                 94              1382         246\n",
       "10                75               896         128\n",
       "11                63               638          71\n",
       "12                98              1674         281\n",
       "13                33               171           9\n",
       "14                49               380          40\n",
       "15                51               469          42\n",
       "16                39               240          16\n",
       "17                55               486          47\n",
       "18                84              1150         167\n",
       "19                72               868         123"
      ]
     },
     "execution_count": 19,
     "metadata": {},
     "output_type": "execute_result"
    }
   ],
   "source": [
    "#тестовый блок для определения скорости работы алгоритма\n",
    "\n",
    "tests = []\n",
    "\n",
    "for i in range(20):\n",
    "    temp_matrix = generate_matrix()\n",
    "    node_counts = len(temp_matrix)\n",
    "    edge_counts = 0\n",
    "    for i in range(len(temp_matrix)):\n",
    "        for j in range(len(temp_matrix)):\n",
    "            if temp_matrix[i][j] != math.inf:\n",
    "                edge_counts += 1\n",
    "    t1 = time.time()\n",
    "    result = floyd(temp_matrix)\n",
    "    t2 = time.time()\n",
    "    delta = round((t2 - t1) * 1000)\n",
    "    tests.append([node_counts, edge_counts, delta])\n",
    "\n",
    "pd.DataFrame(tests, columns = [\"Количество узлов\", \"Количество ребер\", \"Время в мс\"])"
   ]
  },
  {
   "cell_type": "code",
   "execution_count": 20,
   "id": "3Bnc3w0w1uEK",
   "metadata": {
    "colab": {
     "base_uri": "https://localhost:8080/",
     "height": 219
    },
    "id": "3Bnc3w0w1uEK",
    "outputId": "4eb81796-45b9-427c-8ebd-7df2fa9b19c6"
   },
   "outputs": [
    {
     "ename": "IndexError",
     "evalue": "list index out of range",
     "output_type": "error",
     "traceback": [
      "\u001b[1;31m---------------------------------------------------------------------------\u001b[0m",
      "\u001b[1;31mIndexError\u001b[0m                                Traceback (most recent call last)",
      "Cell \u001b[1;32mIn[20], line 55\u001b[0m\n\u001b[0;32m     52\u001b[0m     graph1\u001b[38;5;241m.\u001b[39mnodes[path[\u001b[38;5;241m-\u001b[39m\u001b[38;5;241m1\u001b[39m]][\u001b[38;5;124m'\u001b[39m\u001b[38;5;124mcolor\u001b[39m\u001b[38;5;124m'\u001b[39m] \u001b[38;5;241m=\u001b[39m \u001b[38;5;124m'\u001b[39m\u001b[38;5;124mred\u001b[39m\u001b[38;5;124m'\u001b[39m\n\u001b[0;32m     54\u001b[0m draw_graph(graph1, path)\n\u001b[1;32m---> 55\u001b[0m \u001b[38;5;28mprint\u001b[39m(\u001b[38;5;124mf\u001b[39m\u001b[38;5;124m\"\u001b[39m\u001b[38;5;124mДлина \u001b[39m\u001b[38;5;132;01m{\u001b[39;00m\u001b[43mresult\u001b[49m\u001b[43m[\u001b[49m\u001b[38;5;241;43m0\u001b[39;49m\u001b[43m]\u001b[49m\u001b[43m[\u001b[49m\u001b[38;5;241;43m5\u001b[39;49m\u001b[43m]\u001b[49m\u001b[38;5;132;01m}\u001b[39;00m\u001b[38;5;124m\"\u001b[39m)\n\u001b[0;32m     57\u001b[0m \u001b[38;5;66;03m#отображаем граф с решением\u001b[39;00m\n\u001b[0;32m     58\u001b[0m nt1 \u001b[38;5;241m=\u001b[39m Network(notebook\u001b[38;5;241m=\u001b[39m\u001b[38;5;28;01mTrue\u001b[39;00m)\n",
      "\u001b[1;31mIndexError\u001b[0m: list index out of range"
     ]
    },
    {
     "data": {
      "image/png": "[encoded data removed]",
      "text/plain": [
       "<Figure size 640x480 with 1 Axes>"
      ]
     },
     "metadata": {},
     "output_type": "display_data"
    }
   ],
   "source": [
    "#алгоритм\n",
    "def dijkstra(__matrix, v, u):\n",
    "    matrix = copy.deepcopy(__matrix)\n",
    "    v -= 1\n",
    "    u -= 1\n",
    "    N = len(matrix)\n",
    "    D = [matrix[v][i] for i in range(N)]\n",
    "    D[v] = 0\n",
    "    P = [[v] for i in range(N)]\n",
    "    checked_nodes = {v}\n",
    "    for i in range(N):\n",
    "        temp_min = math.inf\n",
    "        node = None\n",
    "        for j in range(N):\n",
    "            if D[j] < temp_min and j not in checked_nodes:\n",
    "                temp_min = D[j]\n",
    "                node = j\n",
    "        if node is not None:\n",
    "            checked_nodes.add(node)\n",
    "            for k in range(N):\n",
    "                if D[k] > matrix[node][k] + D[node]:\n",
    "                    D[k] = matrix[node][k] + D[node]\n",
    "                    P[k] = copy.deepcopy(P[node])\n",
    "                    P[k].append(node)\n",
    "        else:\n",
    "            break\n",
    "\n",
    "    for i in range(N):\n",
    "        if D[i] != math.inf and P[i][0] != i:\n",
    "            P[i].append(i)\n",
    "\n",
    "    if D[u] == math.inf:\n",
    "        path = []\n",
    "    else:\n",
    "        path = [el + 1 for el in P[u]]\n",
    "    return (D, path, P)\n",
    "\n",
    "\n",
    "\n",
    "result = dijkstra(matrix, 1, 3)\n",
    "path = result[1]\n",
    "\n",
    "\n",
    "\n",
    "#вносим графические изменения\n",
    "\n",
    "graph1 = copy.deepcopy(graph)\n",
    "if len(path) > 0:\n",
    "    for i in range(1, len(path)):\n",
    "        graph1.nodes[path[i - 1]]['color'] = 'red'\n",
    "        graph1.edges[path[i - 1], path[i]]['color'] = 'red'\n",
    "    graph1.nodes[path[-1]]['color'] = 'red'\n",
    "\n",
    "draw_graph(graph1, path)\n",
    "print(f\"Длина {result[0][5]}\")\n",
    "\n",
    "#отображаем граф с решением\n",
    "nt1 = Network(notebook=True)\n",
    "nt1.set_options(options)\n",
    "nt1.from_nx(graph1)\n",
    "nt1.show(\"test1.html\")"
   ]
  },
  {
   "cell_type": "code",
   "execution_count": null,
   "id": "-VRNNn8d11Hb",
   "metadata": {
    "colab": {
     "base_uri": "https://localhost:8080/",
     "height": 676
    },
    "id": "-VRNNn8d11Hb",
    "outputId": "f2db2442-aaf0-449f-a4d7-460a2959fc16"
   },
   "outputs": [],
   "source": [
    "#тестовый блок для определения скорости работы алгоритма\n",
    "\n",
    "tests = []\n",
    "\n",
    "for i in range(20):\n",
    "    temp_matrix = generate_matrix()\n",
    "    node_counts = len(temp_matrix)\n",
    "    edge_counts = 0\n",
    "    for i in range(len(temp_matrix)):\n",
    "        for j in range(len(temp_matrix)):\n",
    "            if temp_matrix[i][j] != math.inf:\n",
    "                edge_counts += 1\n",
    "    t1 = time.time()\n",
    "    c1 = random.randint(1, len(temp_matrix) // 2)\n",
    "    c2 = random.randint(1, len(temp_matrix))\n",
    "    result = dijkstra(temp_matrix, c1, c2)\n",
    "    t2 = time.time()\n",
    "    delta = round((t2 - t1) * 1000)\n",
    "    tests.append([node_counts, edge_counts, delta])\n",
    "\n",
    "pd.DataFrame(tests, columns = [\"Количество узлов\", \"Количество ребер\", \"Время в мс\"])"
   ]
  },
  {
   "cell_type": "code",
   "execution_count": null,
   "id": "j4YVak_L15ut",
   "metadata": {
    "colab": {
     "base_uri": "https://localhost:8080/",
     "height": 219
    },
    "id": "j4YVak_L15ut",
    "outputId": "b3d3ffaf-dd67-45e6-9c3a-831143d9ee49"
   },
   "outputs": [],
   "source": [
    "#алгоритм Беллмана-Форда\n",
    "def bell_ford(matrix, v, u):\n",
    "    v -= 1\n",
    "    u -= 1\n",
    "    N = len(matrix)\n",
    "    cycle = False\n",
    "    A = [[math.inf for i in range(N)] for j in range(N)]\n",
    "    P = [[v] for i in range(N)]\n",
    "    A[0][v] = 0\n",
    "    for k in range(1, N):\n",
    "        A[k] = copy.deepcopy(A[k - 1])\n",
    "        for i in range(N):\n",
    "            for j in range(N):\n",
    "                if matrix[i][j] == math.inf:\n",
    "                    continue\n",
    "                calculated_distance = A[k - 1][i] + matrix[i][j]\n",
    "                if A[k][j] > calculated_distance:\n",
    "                    A[k][j] = calculated_distance\n",
    "                    P[j] = copy.deepcopy(P[i])\n",
    "                    P[j].append(j)\n",
    "    if A[-1] != A[-2]:\n",
    "        cycle = True\n",
    "    if A[-1][u] == math.inf or len(P[u]) == 1:\n",
    "        path = []\n",
    "    else:\n",
    "        path = [el + 1 for el in P[u]]\n",
    "    return (A[-1], path, P, cycle)\n",
    "\n",
    "result = bell_ford(matrix, 2, 3)\n",
    "path = result[1]\n",
    "\n",
    "#вносим графические изменения\n",
    "graph1 = copy.deepcopy(graph)\n",
    "if len(path) > 0:\n",
    "    for i in range(1, len(path)):\n",
    "        graph1.nodes[path[i - 1]]['color'] = 'red'\n",
    "        graph1.edges[path[i - 1], path[i]]['color'] = 'red'\n",
    "    graph1.nodes[path[-1]]['color'] = 'red'\n",
    "\n",
    "draw_graph(graph1, path)\n",
    "print(f\"Длина {result[0][5]}\")\n",
    "\n",
    "#отображаем граф с решением\n",
    "nt1 = Network(notebook=True)\n",
    "nt1.set_options(options)\n",
    "nt1.from_nx(graph1)\n",
    "nt1.show(\"test1.html\")"
   ]
  },
  {
   "cell_type": "code",
   "execution_count": null,
   "id": "2jDw-Dbx1-ur",
   "metadata": {
    "colab": {
     "base_uri": "https://localhost:8080/",
     "height": 676
    },
    "id": "2jDw-Dbx1-ur",
    "outputId": "348be696-df61-499a-9ab6-c0b667d206b8"
   },
   "outputs": [],
   "source": [
    "#тестовый блок для определения скорости работы алгоритма\n",
    "\n",
    "tests = []\n",
    "\n",
    "for i in range(20):\n",
    "    temp_matrix = generate_matrix()\n",
    "    node_counts = len(temp_matrix)\n",
    "    edge_counts = 0\n",
    "    for i in range(len(temp_matrix)):\n",
    "        for j in range(i):\n",
    "            if temp_matrix[j][i] != 0:\n",
    "                edge_counts += 1\n",
    "    t1 = time.time()\n",
    "    c1 = random.randint(1, len(temp_matrix) // 2)\n",
    "    c2 = random.randint(1, len(temp_matrix))\n",
    "    result = bell_ford(temp_matrix, c1, c2)\n",
    "    t2 = time.time()\n",
    "    delta = round((t2 - t1) * 1000)\n",
    "    tests.append([node_counts, edge_counts, delta])\n",
    "\n",
    "pd.DataFrame(tests, columns = [\"Количество узлов\", \"Количество ребер\", \"Время в мс\"])"
   ]
  },
  {
   "cell_type": "code",
   "execution_count": null,
   "id": "3vp6E8DG2C1N",
   "metadata": {
    "colab": {
     "base_uri": "https://localhost:8080/",
     "height": 219
    },
    "id": "3vp6E8DG2C1N",
    "outputId": "2b54a039-6b9b-48d0-b324-426286e8641c"
   },
   "outputs": [],
   "source": [
    "#алгоритм Джонсона\n",
    "def johnson(__matrix, v, u):\n",
    "    v -= 1\n",
    "    u -= 1\n",
    "    w = copy.deepcopy(__matrix)\n",
    "    matrix = copy.deepcopy(__matrix)\n",
    "    N = len(matrix)\n",
    "    for i in range(N):\n",
    "        w[i].append(math.inf)\n",
    "    w.append([0 for i in range(N + 1)])\n",
    "    temp_result = bell_ford(w, 1, N + 1)\n",
    "    if temp_result[3] == True:\n",
    "        return ([], [], [])\n",
    "    for i in range(N):\n",
    "        for j in range(N):\n",
    "            if matrix[i][j] != math.inf and temp_result[0][i] != math.inf and temp_result[0][j] != math.inf:\n",
    "                matrix[i][j] += temp_result[0][i] - temp_result[0][j]\n",
    "    distArr = []\n",
    "    pathArr = []\n",
    "    for i in range(N):\n",
    "        dijkstra_result = dijkstra(matrix, i + 1, i + 1)\n",
    "        distArr.append(dijkstra_result[0])\n",
    "        pathArr.append(dijkstra_result[2])\n",
    "    for i in range(N):\n",
    "        for j in range(N):\n",
    "            if distArr[i][j] != math.inf and temp_result[0][i] != math.inf and temp_result[0][j] != math.inf:\n",
    "                distArr[i][j] += temp_result[0][j] - temp_result[0][i]\n",
    "\n",
    "    return (distArr, [el + 1 for el in pathArr[v][u]], pathArr)\n",
    "\n",
    "\n",
    "result = johnson(matrix, 1, 3)\n",
    "path = result[1]\n",
    "\n",
    "#вносим графические изменения\n",
    "graph1 = copy.deepcopy(graph)\n",
    "if len(path) > 0:\n",
    "    for i in range(1, len(path)):\n",
    "        graph1.nodes[path[i - 1]]['color'] = 'red'\n",
    "        graph1.edges[path[i - 1], path[i]]['color'] = 'red'\n",
    "    graph1.nodes[path[-1]]['color'] = 'red'\n",
    "\n",
    "draw_graph(graph1, path)\n",
    "print(f\"Длина {result[1][1][1]}\")\n",
    "\n",
    "#отображаем граф с решением\n",
    "nt1 = Network(notebook=True)\n",
    "nt1.set_options(options)\n",
    "nt1.from_nx(graph1)\n",
    "nt1.show(\"test1.html\")\n",
    "draw_graph(graph1, path)"
   ]
  },
  {
   "cell_type": "code",
   "execution_count": null,
   "id": "yT_0reRy2IFB",
   "metadata": {
    "colab": {
     "base_uri": "https://localhost:8080/",
     "height": 676
    },
    "id": "yT_0reRy2IFB",
    "outputId": "a4eb6762-7d24-4ab8-8ed3-a5933f70c385"
   },
   "outputs": [],
   "source": [
    "#тестовый блок для определения скорости работы алгоритма\n",
    "\n",
    "tests = []\n",
    "\n",
    "for i in range(20):\n",
    "    temp_matrix = generate_matrix()\n",
    "    node_counts = len(temp_matrix)\n",
    "    edge_counts = 0\n",
    "    for i in range(len(temp_matrix)):\n",
    "        for j in range(i):\n",
    "            if temp_matrix[j][i] != 0:\n",
    "                edge_counts += 1\n",
    "    t1 = time.time()\n",
    "    c1 = random.randint(1, len(temp_matrix) // 2)\n",
    "    c2 = random.randint(1, len(temp_matrix))\n",
    "    result = johnson(temp_matrix, c1, c2)\n",
    "    t2 = time.time()\n",
    "    delta = round((t2 - t1) * 1000)\n",
    "    tests.append([node_counts, edge_counts, delta])\n",
    "\n",
    "pd.DataFrame(tests, columns = [\"Количество узлов\", \"Количество ребер\", \"Время в мс\"])"
   ]
  },
  {
   "cell_type": "code",
   "execution_count": null,
   "id": "shD89Dn32S02",
   "metadata": {
    "colab": {
     "base_uri": "https://localhost:8080/",
     "height": 219
    },
    "id": "shD89Dn32S02",
    "outputId": "cd819663-2e49-4ef0-d045-14bcfb427a76"
   },
   "outputs": [],
   "source": [
    "#алгоритм Йена\n",
    "def yen(__matrix, v, u, K):\n",
    "    v -= 1\n",
    "    u -= 1\n",
    "    matrix = copy.deepcopy(__matrix)\n",
    "    N = len(matrix)\n",
    "    temp = dijkstra(matrix, v + 1, u + 1)\n",
    "    candidates = set()\n",
    "    paths = [[el - 1 for el in temp[1]]]\n",
    "    lengths = [temp[0][u]]\n",
    "    if len(paths[0]) < 2:\n",
    "        return ([], [])\n",
    "    for k in range (1, K):\n",
    "        cur_mat = copy.deepcopy(matrix)\n",
    "        for i in range(len(paths[-1]) - 1):\n",
    "            spur_node = paths[-1][i]\n",
    "            root_path = paths[-1][:i + 1]\n",
    "\n",
    "            for path in paths:\n",
    "                if root_path == path[:i + 1]:\n",
    "                    cur_mat[path[i]][path[i + 1]] = math.inf\n",
    "\n",
    "            for node in root_path:\n",
    "                if node != spur_node:\n",
    "                    cur_mat[node] = [math.inf for j in range(N)]\n",
    "\n",
    "            temp = dijkstra(cur_mat, spur_node + 1, u + 1)\n",
    "            spur_path = [el - 1 for el in temp[1][1:]]\n",
    "            if len(spur_path) < 1:\n",
    "                continue\n",
    "\n",
    "            total_path = root_path\n",
    "            total_path.extend(spur_path)\n",
    "            total_path = tuple(total_path)\n",
    "            distance = 0\n",
    "            for j in range(1, len(total_path)):\n",
    "                distance += matrix[total_path[j - 1]][total_path[j]]\n",
    "\n",
    "            candidates.add((total_path, distance))\n",
    "        if len(candidates) == 0:\n",
    "            break\n",
    "\n",
    "        sorted_candidates = list(candidates)\n",
    "        sorted_candidates.sort(key = lambda x : x[1])\n",
    "        paths.append(list(sorted_candidates[0][0]))\n",
    "        lengths.append(sorted_candidates[0][1])\n",
    "        candidates.remove(sorted_candidates[0])\n",
    "    for i in range(len(paths)):\n",
    "        paths[i] = [el + 1 for el in paths[i]]\n",
    "    return (paths, lengths)\n",
    "\n",
    "result = yen(matrix, 1, 2, 3)\n",
    "paths = result[0]\n",
    "#вносим графические изменения\n",
    "for i in range(len(paths)):\n",
    "    graph1 = copy.deepcopy(graph)\n",
    "    path = paths[i]\n",
    "    for j in range(1, len(path)):\n",
    "        graph1.nodes[path[j - 1]]['color'] = 'red'\n",
    "        graph1.edges[path[j - 1], path[j]]['color'] = 'red'\n",
    "    graph1.nodes[path[-1]]['color'] = 'red'\n",
    "    nt1 = Network(notebook=True)\n",
    "    nt1.prep_notebook()\n",
    "    nt1.set_options(options)\n",
    "    nt1.from_nx(graph1)\n",
    "    nt1.show(\"test\" + str(i + 3) + \".html\")\n",
    "\n",
    "    draw_graph(graph1, paths[i])\n",
    "    print(f\"Длина {result[1][i]}\")\n",
    "    plt.show()"
   ]
  },
  {
   "cell_type": "code",
   "execution_count": null,
   "id": "uG2R3Qj22Yo6",
   "metadata": {
    "colab": {
     "base_uri": "https://localhost:8080/",
     "height": 676
    },
    "id": "uG2R3Qj22Yo6",
    "outputId": "cbd21be8-c234-4ea3-f02c-4d4015197f46"
   },
   "outputs": [],
   "source": [
    "#тестовый блок для определения скорости работы алгоритма\n",
    "\n",
    "tests = []\n",
    "\n",
    "for i in range(20):\n",
    "    temp_matrix = generate_matrix()\n",
    "    node_counts = len(temp_matrix)\n",
    "    edge_counts = 0\n",
    "    for i in range(len(temp_matrix)):\n",
    "        for j in range(i):\n",
    "            if temp_matrix[j][i] != 0:\n",
    "                edge_counts += 1\n",
    "    t1 = time.time()\n",
    "    c1 = random.randint(1, len(temp_matrix) // 2)\n",
    "    c2 = random.randint(1, len(temp_matrix))\n",
    "    c3 = random.randint(3, 10)\n",
    "    result = yen(temp_matrix, c1, c2, c3)\n",
    "    t2 = time.time()\n",
    "    delta = round((t2 - t1) * 1000)\n",
    "    tests.append([node_counts, edge_counts, c3, delta])\n",
    "\n",
    "pd.DataFrame(tests, columns = [\"Количество узлов\", \"Количество ребер\", \"Кол-во маршрутов\", \"Время в мс\"])"
   ]
  },
  {
   "cell_type": "markdown",
   "id": "k_OBkZO92iHk",
   "metadata": {
    "id": "k_OBkZO92iHk"
   },
   "source": [
    "**Вывод**\n",
    "\n",
    "# *Мы реализовали алгоритмы поиска кратчайшего расстояния между двумя вершинами ориентированного взвешенного графа в соответствии с заданием, проанализировали временную сложность работы заданных алгоритмов.*"
   ]
  },
  {
   "cell_type": "code",
   "execution_count": null,
   "id": "M-qZ3AbY2d8k",
   "metadata": {
    "id": "M-qZ3AbY2d8k"
   },
   "outputs": [],
   "source": []
  }
 ],
 "metadata": {
  "colab": {
   "provenance": []
  },
  "kernelspec": {
   "display_name": "Python 3 (ipykernel)",
   "language": "python",
   "name": "python3"
  },
  "language_info": {
   "codemirror_mode": {
    "name": "ipython",
    "version": 3
   },
   "file_extension": ".py",
   "mimetype": "text/x-python",
   "name": "python",
   "nbconvert_exporter": "python",
   "pygments_lexer": "ipython3",
   "version": "3.12.0"
  }
 },
 "nbformat": 4,
 "nbformat_minor": 5
}
